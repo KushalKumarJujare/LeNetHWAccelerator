{
 "cells": [
  {
   "cell_type": "code",
   "execution_count": null,
   "metadata": {},
   "outputs": [],
   "source": [
    "###############################################################################\n",
    "# LeNet flow first implemented in Python with random weight and bias values. This flow will be replicated in Verilog\n"
   ]
  },
  {
   "cell_type": "code",
   "execution_count": 91,
   "metadata": {},
   "outputs": [
    {
     "name": "stdout",
     "output_type": "stream",
     "text": [
      "(313, 525, 4)\n",
      "(313, 525)\n",
      "Resized Dimensions :  (32, 32, 4) (32, 32)\n"
     ]
    },
    {
     "data": {
      "text/plain": [
       "<matplotlib.image.AxesImage at 0x19f457574a8>"
      ]
     },
     "execution_count": 91,
     "metadata": {},
     "output_type": "execute_result"
    },
    {
     "data": {
      "image/png": "[encoded data removed]",
      "text/plain": [
       "<Figure size 432x288 with 1 Axes>"
      ]
     },
     "metadata": {
      "needs_background": "light"
     },
     "output_type": "display_data"
    }
   ],
   "source": [
    "%matplotlib inline\n",
    "import matplotlib.image as mpimg \n",
    "import matplotlib.pyplot as plt \n",
    "img = mpimg.imread(r'C:\\Users\\jujare\\Desktop\\kushal\\Peashon\\HWaccel\\IMAGE.PNG') \n",
    "plt.imshow(img)\n",
    "\n",
    "def rgb2gray(rgb):\n",
    "\n",
    "    r, g, b = rgb[:,:,0], rgb[:,:,1], rgb[:,:,2]\n",
    "    gray = 0.2989 * r + 0.5870 * g + 0.1140 * b\n",
    "\n",
    "    return gray\n",
    "gray = rgb2gray(img)\n",
    "\n",
    "import cv2\n",
    "#img = cv2.imread(r'C:\\Users\\jujare\\Desktop\\kushal\\personal\\a.jpg', cv2.IMREAD_UNCHANGED)\n",
    "\n",
    "#gray = cv2.cvtColor(img, cv2.COLOR_BGR2GRAY)\n",
    "\n",
    "dimensions = img.shape\n",
    "d1 = gray.shape\n",
    "print(dimensions)\n",
    "print(d1)\n",
    "scale_value = 32 # percent of original size\n",
    "width = int(img.shape[1] * scale_value / 525)\n",
    "height = int(img.shape[0] * scale_value / 313)\n",
    "dim = (width, height)\n",
    "resized = cv2.resize(img, dim, interpolation = cv2.INTER_AREA)\n",
    "resized_gray1 = cv2.resize(gray, dim, interpolation = cv2.INTER_AREA) \n",
    "print('Resized Dimensions : ',resized.shape, resized_gray1.shape)\n",
    "#plt.imshow(resized)\n",
    "#plt.imshow(img)\n",
    "plt.imshow(resized_gray1, cmap = plt.cm.gray)"
   ]
  },
  {
   "cell_type": "code",
   "execution_count": 92,
   "metadata": {},
   "outputs": [],
   "source": [
    "import numpy as np\n",
    "\n",
    "#image = np.random.randint(1,9,size=(3,227,227))\n",
    "def conv(I, S, P, kernel, Ci, Co):\n",
    "    X = len(I[0])\n",
    "    I = np.pad(I,((P,P),(P,P),(0,0)), mode='constant', constant_values=0)\n",
    "    Xp = len(I[0])\n",
    "    print(I.shape)\n",
    "    k = len(kernel[0])\n",
    "    print(int(k/2))\n",
    "    Op = int(((X-k+2*P)/S) + 1)\n",
    "    output_val = np.zeros((Op,Op,Co))\n",
    "    for d in range(Co):\n",
    "        #kernel = np.random.randint(1,3,size=(k,k,Ci))\n",
    "        O = Xp-k\n",
    "        for o1,op1 in zip(range(0,O,S), range(Op)):\n",
    "            for o2,op2 in zip(range(0,O,S), range(Op)):\n",
    "                for c in range(Ci):\n",
    "                    for i in range(k):\n",
    "                        for j in range(k):\n",
    "                            #if (j+o2 <= O-1 + k-1):\n",
    "                            #print (d, op1, op2, c, i,o1, j,o2)\n",
    "                            output_val[op1][op2][d] = I[i+o1][j+o2][c] * kernel[i][j][c] + output_val[op1][op2][d]\n",
    "    print (op1, op2, d, i+o1, j+o2,c)\n",
    "    return output_val"
   ]
  },
  {
   "cell_type": "code",
   "execution_count": 93,
   "metadata": {},
   "outputs": [
    {
     "name": "stdout",
     "output_type": "stream",
     "text": [
      "0.87894565\n",
      "(32, 32, 1)\n"
     ]
    }
   ],
   "source": [
    "resized_gray = resized_gray1[:, :, None] # adding 3rd dimension \n",
    "print(resized_gray.max())\n",
    "print(resized_gray.shape)"
   ]
  },
  {
   "cell_type": "code",
   "execution_count": 94,
   "metadata": {},
   "outputs": [
    {
     "name": "stdout",
     "output_type": "stream",
     "text": [
      "(3, 3, 1) (32, 32, 1) 4\n",
      "(32, 32, 1)\n",
      "2\n",
      "26 26 5 30 30 0\n",
      "(28, 28, 6)\n"
     ]
    }
   ],
   "source": [
    "import torch\n",
    "from numpy import array, newaxis, expand_dims\n",
    "laplacian = np.array((\n",
    "    [0, 1, 0],\n",
    "    [1, -4, 1],\n",
    "    [0, 1, 0]), dtype=\"int\")\n",
    "# construct the Sobel x-axis kernel\n",
    "sobelX = np.array((\n",
    "    [-1, 0, 1],\n",
    "    [-2, 0, 2],\n",
    "    [-1, 0, 1]), dtype=\"int\")\n",
    "# construct the Sobel y-axis kernel\n",
    "sobelY = np.array((\n",
    "    [-1, -2, -1],\n",
    "    [0, 0, 0],\n",
    "    [1, 2, 1]), dtype=\"int\")\n",
    "laplacian = array(laplacian)[:, :, newaxis]\n",
    "sobelX = array(sobelX)[:, :, newaxis]\n",
    "sobelY = array(sobelY)[:, :, newaxis]\n",
    "print(laplacian.shape, resized_gray.shape, resized.shape[2])\n",
    "K1 = np.random.randint(1,3,size=(5,5,resized.shape[2]))\n",
    "test = conv(I=resized_gray, S=1, P=0, kernel=K1, Ci=resized_gray.shape[2], Co=6)\n",
    "#test = conv(I=resized_gray, S=1, P=0, kernel=laplacian, Ci=resized_gray.shape[2], Co=1)\n",
    "print(test.shape)"
   ]
  },
  {
   "cell_type": "code",
   "execution_count": 95,
   "metadata": {},
   "outputs": [
    {
     "name": "stdout",
     "output_type": "stream",
     "text": [
      "28.359922528266907\n",
      "(28, 28, 6)\n"
     ]
    }
   ],
   "source": [
    "test_hori = test\n",
    "print((test_hori.max()))\n",
    "print(test.shape)\n",
    "#print(a1.shape)"
   ]
  },
  {
   "cell_type": "code",
   "execution_count": 96,
   "metadata": {},
   "outputs": [
    {
     "name": "stdout",
     "output_type": "stream",
     "text": [
      "(28, 28, 6)\n",
      "(28, 28)\n"
     ]
    },
    {
     "data": {
      "text/plain": [
       "<matplotlib.image.AxesImage at 0x19f45248d68>"
      ]
     },
     "execution_count": 96,
     "metadata": {},
     "output_type": "execute_result"
    },
    {
     "data": {
      "image/png": "[encoded data removed]",
      "text/plain": [
       "<Figure size 432x288 with 1 Axes>"
      ]
     },
     "metadata": {
      "needs_background": "light"
     },
     "output_type": "display_data"
    }
   ],
   "source": [
    "print(test_hori.shape)\n",
    "test_o = test[:,:,0]\n",
    "print(test_o.shape)\n",
    "im = torch.from_numpy(test_o)\n",
    "plt.imshow(im, cmap = plt.cm.gray)\n",
    "#plt.imshow(im)"
   ]
  },
  {
   "cell_type": "code",
   "execution_count": 97,
   "metadata": {},
   "outputs": [],
   "source": [
    "def maxpool(I, S, k):\n",
    "    P = 0\n",
    "    I = np.pad(I,((0,P),(0,P),(0,0)), mode='constant', constant_values=0)\n",
    "    X = I.shape[0]\n",
    "    Ci = I.shape[2]\n",
    "    Co = I.shape[2]\n",
    "    Op = int(((X-k+2*P)/S) + 1)\n",
    "    output_val = np.zeros((Op,Op,Co))\n",
    "    #print(output_val.shape)\n",
    "    for d in range(Co):\n",
    "        #kernel = np.random.randint(1,3,size=(k,k,Ci))\n",
    "        O = X-k\n",
    "        #print(O)\n",
    "        for o1,op1 in zip(range(0,O,S), range(0,Op)):\n",
    "            for o2,op2 in zip(range(0,O,S), range(0,Op)):\n",
    "                max_list = []\n",
    "                for c in range(Ci):\n",
    "                    for i in range(k):\n",
    "                        for j in range(k):\n",
    "                            max_list.append(I[i+o1][j+o2][c])\n",
    "                #print(op1, op2,d,i+o1,j+o2,c)\n",
    "                output_val[op1][op2][d] = np.max(max_list)\n",
    "    print(op1, op2,d,i+o1,j+o2,c)\n",
    "    return output_val"
   ]
  },
  {
   "cell_type": "code",
   "execution_count": 98,
   "metadata": {},
   "outputs": [
    {
     "name": "stdout",
     "output_type": "stream",
     "text": [
      "12 12 5 25 25 5\n",
      "(14, 14, 6)\n"
     ]
    }
   ],
   "source": [
    "#maxpool1 = conv(I=conv1, S=2, P=0, k=3, Ci=96, Co=96)\n",
    "#print(conv1.shape[2])\n",
    "#test_p = test_o[:, :, newaxis]\n",
    "#print(test_p.shape)\n",
    "maxpool1 = maxpool(I=test_hori, S=2, k=2)\n",
    "print(maxpool1.shape)"
   ]
  },
  {
   "cell_type": "code",
   "execution_count": 99,
   "metadata": {},
   "outputs": [
    {
     "name": "stdout",
     "output_type": "stream",
     "text": [
      "(14, 14, 6)\n"
     ]
    },
    {
     "data": {
      "text/plain": [
       "<matplotlib.image.AxesImage at 0x19f452a8be0>"
      ]
     },
     "execution_count": 99,
     "metadata": {},
     "output_type": "execute_result"
    },
    {
     "data": {
      "image/png": "[encoded data removed]",
      "text/plain": [
       "<Figure size 432x288 with 1 Axes>"
      ]
     },
     "metadata": {
      "needs_background": "light"
     },
     "output_type": "display_data"
    }
   ],
   "source": [
    "print(maxpool1.shape)\n",
    "maxpool1_o = maxpool1[:,:,0]\n",
    "plt.imshow(maxpool1_o, cmap = plt.cm.gray)"
   ]
  },
  {
   "cell_type": "code",
   "execution_count": 100,
   "metadata": {
    "scrolled": false
   },
   "outputs": [
    {
     "name": "stdout",
     "output_type": "stream",
     "text": [
      "(14, 14, 6)\n",
      "2\n",
      "8 8 15 12 12 5\n",
      "(10, 10, 16)\n"
     ]
    }
   ],
   "source": [
    "K3 = np.random.randint(1,3,size=(5,5,maxpool1.shape[2]))\n",
    "#conv2 = conv(I=maxpool1, S=1, P=2, kernel=K3, Ci=maxpool1.shape[2], Co=256)\n",
    "#print(conv2.shape)\n",
    "conv2 = conv(I=maxpool1, S=1, P=0, kernel=K3, Ci=maxpool1.shape[2], Co=16)\n",
    "print(conv2.shape)"
   ]
  },
  {
   "cell_type": "code",
   "execution_count": 101,
   "metadata": {},
   "outputs": [
    {
     "name": "stdout",
     "output_type": "stream",
     "text": [
      "(10, 10)\n"
     ]
    },
    {
     "data": {
      "text/plain": [
       "<matplotlib.image.AxesImage at 0x19f4530af28>"
      ]
     },
     "execution_count": 101,
     "metadata": {},
     "output_type": "execute_result"
    },
    {
     "data": {
      "image/png": "[encoded data removed]",
      "text/plain": [
       "<Figure size 432x288 with 1 Axes>"
      ]
     },
     "metadata": {
      "needs_background": "light"
     },
     "output_type": "display_data"
    }
   ],
   "source": [
    "conv2_o = conv2[:,:,0]\n",
    "print(conv2_o.shape)\n",
    "plt.imshow(conv2_o, cmap = plt.cm.gray)"
   ]
  },
  {
   "cell_type": "code",
   "execution_count": 102,
   "metadata": {},
   "outputs": [
    {
     "name": "stdout",
     "output_type": "stream",
     "text": [
      "(10, 10, 16)\n",
      "3 3 15 7 7 15\n",
      "(5, 5, 16)\n"
     ]
    }
   ],
   "source": [
    "print(conv2.shape)\n",
    "maxpool2 = maxpool(I=conv2, S=2, k=2)\n",
    "print(maxpool2.shape)"
   ]
  },
  {
   "cell_type": "code",
   "execution_count": 103,
   "metadata": {},
   "outputs": [
    {
     "name": "stdout",
     "output_type": "stream",
     "text": [
      "(5, 5, 16)\n",
      "(5, 5)\n"
     ]
    },
    {
     "data": {
      "text/plain": [
       "<matplotlib.image.AxesImage at 0x19f40b00ac8>"
      ]
     },
     "execution_count": 103,
     "metadata": {},
     "output_type": "execute_result"
    },
    {
     "data": {
      "image/png": "[encoded data removed]",
      "text/plain": [
       "<Figure size 432x288 with 1 Axes>"
      ]
     },
     "metadata": {
      "needs_background": "light"
     },
     "output_type": "display_data"
    }
   ],
   "source": [
    "print(maxpool2.shape)\n",
    "maxpool2_o = maxpool2[:,:,0]\n",
    "print(maxpool2_o.shape)\n",
    "plt.imshow(maxpool2_o, cmap = plt.cm.gray)"
   ]
  },
  {
   "cell_type": "code",
   "execution_count": 69,
   "metadata": {},
   "outputs": [],
   "source": [
    "def flatten(I):\n",
    "    O = []\n",
    "    for DEPTH in range(len(I)):\n",
    "        for ROW in range(len(I[0])):\n",
    "            for COLUMN in range(len(I[0][0])):\n",
    "                O.append(I[DEPTH][ROW][COLUMN])\n",
    "    return O"
   ]
  },
  {
   "cell_type": "code",
   "execution_count": 74,
   "metadata": {},
   "outputs": [
    {
     "name": "stdout",
     "output_type": "stream",
     "text": [
      "400\n"
     ]
    }
   ],
   "source": [
    "#image = np.random.randint(1,9,size=(4,3,2))\n",
    "flat = flatten(maxpool2)\n",
    "print(len(flat))"
   ]
  },
  {
   "cell_type": "code",
   "execution_count": 75,
   "metadata": {},
   "outputs": [],
   "source": [
    "def fc(Li, W1, Lo, B):\n",
    "    O = list(range(Lo))\n",
    "    for i in range(Lo):\n",
    "        for j in range(len(Li)):\n",
    "            O[i] = Li[j]*W1[j] + O[i]\n",
    "            #print(O[i])\n",
    "        O[i] = O[i] + B[i]\n",
    "        #print(O[i], Li[j], W1[j], B[i])\n",
    "    return O"
   ]
  },
  {
   "cell_type": "code",
   "execution_count": 77,
   "metadata": {},
   "outputs": [
    {
     "name": "stdout",
     "output_type": "stream",
     "text": [
      "120\n"
     ]
    }
   ],
   "source": [
    "W1 = np.full_like(flat, 1)\n",
    "B1 = np.ones(120)\n",
    "\n",
    "fc1 = fc(flat, W1, 120, B1)\n",
    "print (len(fc1))\n",
    "#print(fc1)"
   ]
  },
  {
   "cell_type": "code",
   "execution_count": 79,
   "metadata": {},
   "outputs": [
    {
     "name": "stdout",
     "output_type": "stream",
     "text": [
      "84\n"
     ]
    }
   ],
   "source": [
    "W2 = np.full_like(fc1, 1)\n",
    "B2 = np.ones(84)\n",
    "fc2 = fc(fc1, W2, 84, B2)\n",
    "print(len(fc2))"
   ]
  },
  {
   "cell_type": "code",
   "execution_count": 83,
   "metadata": {},
   "outputs": [
    {
     "name": "stdout",
     "output_type": "stream",
     "text": [
      "10\n",
      "[13663996091.854572, 13663996092.854572, 13663996093.854572, 13663996094.854572, 13663996095.854572, 13663996096.854572, 13663996097.854572, 13663996098.854572, 13663996099.854572, 13663996100.854572]\n"
     ]
    }
   ],
   "source": [
    "W3 = np.full_like(fc2, 1)\n",
    "B3 = np.ones(10)\n",
    "Output = fc(fc2, W3, 10, B3)\n",
    "print(len(Output))\n",
    "print(Output)"
   ]
  },
  {
   "cell_type": "code",
   "execution_count": 82,
   "metadata": {},
   "outputs": [
    {
     "name": "stdout",
     "output_type": "stream",
     "text": [
      "13663996100.854572\n",
      "9\n"
     ]
    }
   ],
   "source": [
    "print(np.max(Output))\n",
    "print(np.argmax(Output))"
   ]
  },
  {
   "cell_type": "code",
   "execution_count": 104,
   "metadata": {},
   "outputs": [],
   "source": [
    "########################################################################\n",
    "# The above logic is replicated in the Verilog code, with trained weight, biased values\n",
    "\n",
    "resized_verilog2 = resized_gray1 #(81*81)"
   ]
  },
  {
   "cell_type": "code",
   "execution_count": 107,
   "metadata": {},
   "outputs": [
    {
     "name": "stdout",
     "output_type": "stream",
     "text": [
      "(32, 32)\n"
     ]
    },
    {
     "data": {
      "text/plain": [
       "array([[0.58562446, 0.78307295, 0.70628047, ..., 0.69175917, 0.7790445 ,\n",
       "        0.6685069 ],\n",
       "       [0.65224475, 0.5383559 , 0.57968765, ..., 0.56469893, 0.66516906,\n",
       "        0.75501245],\n",
       "       [0.6134785 , 0.4715301 , 0.04236104, ..., 0.02175822, 0.48919564,\n",
       "        0.7069952 ],\n",
       "       ...,\n",
       "       [0.6725164 , 0.6510704 , 0.03196159, ..., 0.00988463, 0.57212245,\n",
       "        0.7670431 ],\n",
       "       [0.70632845, 0.8629229 , 0.56639504, ..., 0.5118845 , 0.83412814,\n",
       "        0.81251776],\n",
       "       [0.6301223 , 0.87894565, 0.7841373 , ..., 0.7633673 , 0.87684005,\n",
       "        0.72834784]], dtype=float32)"
      ]
     },
     "execution_count": 107,
     "metadata": {},
     "output_type": "execute_result"
    }
   ],
   "source": [
    "print(resized_verilog2.shape)\n",
    "resized_verilog2 \n",
    "# change to int then to hex and send to verilog, then take op.. and compare with op here with 1 conv."
   ]
  },
  {
   "cell_type": "code",
   "execution_count": 113,
   "metadata": {},
   "outputs": [
    {
     "name": "stdout",
     "output_type": "stream",
     "text": [
      "[[1 1 1 1 1 1 1 1 1 1 1 1 1 1 1 1 1 1 1 1 1 1 1 1 1 1 1 1 1 1 1 1]\n",
      " [1 1 1 0 0 0 0 0 0 0 0 0 0 0 0 0 0 0 0 0 0 0 0 0 0 0 0 0 0 1 1 1]\n",
      " [1 0 0 0 0 0 0 0 0 0 0 0 0 0 0 0 0 0 0 0 0 0 0 0 0 0 0 0 0 0 0 1]\n",
      " [1 0 0 1 1 1 1 1 1 1 1 1 1 1 1 1 1 1 1 1 1 1 1 1 1 1 1 1 1 0 0 1]\n",
      " [1 0 0 1 1 1 1 1 1 1 1 1 1 1 1 1 1 1 1 1 1 1 1 1 1 1 1 1 1 1 0 1]\n",
      " [1 0 1 1 1 1 1 1 1 1 1 1 1 1 1 1 1 1 1 1 1 1 1 1 1 1 1 1 1 1 0 1]\n",
      " [1 0 1 1 1 1 1 1 1 1 1 1 1 1 1 1 1 1 1 1 1 1 1 1 1 1 1 1 1 1 0 1]\n",
      " [1 0 1 1 1 1 1 0 0 0 1 1 1 1 1 0 0 1 1 1 1 0 0 0 0 0 0 1 1 1 0 1]\n",
      " [1 0 1 1 1 1 0 0 0 0 0 1 1 1 0 0 0 0 1 1 1 0 0 0 0 0 0 1 1 1 0 1]\n",
      " [1 0 1 1 1 1 0 0 0 0 0 1 1 0 0 0 0 0 0 1 1 0 0 0 0 0 0 1 1 1 0 1]]\n"
     ]
    }
   ],
   "source": [
    "resized_verilog1 = resized_verilog2.round() # round off to nearest int value\n",
    "resized_verilog1 = np.array(resized_verilog1, dtype='int') # pass this matrix to verilog (IMD)\n",
    "print(resized_verilog1[0:10])\n",
    "#print(resized_verilog1)"
   ]
  },
  {
   "cell_type": "code",
   "execution_count": 117,
   "metadata": {},
   "outputs": [
    {
     "name": "stdout",
     "output_type": "stream",
     "text": [
      "(32, 32)\n"
     ]
    },
    {
     "data": {
      "text/plain": [
       "<matplotlib.image.AxesImage at 0x19f46befba8>"
      ]
     },
     "execution_count": 117,
     "metadata": {},
     "output_type": "execute_result"
    },
    {
     "data": {
      "image/png": "[encoded data removed]",
      "text/plain": [
       "<Figure size 432x288 with 1 Axes>"
      ]
     },
     "metadata": {
      "needs_background": "light"
     },
     "output_type": "display_data"
    }
   ],
   "source": [
    "print(resized_verilog1.shape)\n",
    "plt.imshow(resized_verilog1, cmap = plt.cm.gray)"
   ]
  },
  {
   "cell_type": "code",
   "execution_count": 122,
   "metadata": {},
   "outputs": [
    {
     "name": "stdout",
     "output_type": "stream",
     "text": [
      "(3, 3, 1)\n",
      "(32, 32, 1)\n",
      "1\n",
      "28 28 0 30 30 0\n",
      "(30, 30, 1)\n",
      "(30, 30)\n",
      "[[7. 6. 2. 1. 1. 1. 1. 1. 1. 1. 1. 1. 1. 1. 1. 1. 1. 1. 1. 1. 1. 1. 1. 1.\n",
      "  1. 1. 1. 2. 6. 0.]\n",
      " [2. 1. 1. 1. 1. 1. 1. 1. 1. 1. 1. 1. 1. 1. 1. 1. 1. 1. 1. 1. 1. 1. 1. 1.\n",
      "  1. 1. 1. 1. 1. 0.]\n",
      " [1. 1. 6. 7. 7. 7. 7. 7. 7. 7. 7. 7. 7. 7. 7. 7. 7. 7. 7. 7. 7. 7. 7. 7.\n",
      "  7. 7. 7. 6. 2. 0.]\n",
      " [1. 2. 7. 8. 8. 8. 8. 8. 8. 8. 8. 8. 8. 8. 8. 8. 8. 8. 8. 8. 8. 8. 8. 8.\n",
      "  8. 8. 8. 8. 6. 0.]\n",
      " [2. 6. 8. 8. 8. 8. 8. 8. 8. 8. 8. 8. 8. 8. 8. 8. 8. 8. 8. 8. 8. 8. 8. 8.\n",
      "  8. 8. 8. 8. 7. 0.]\n",
      " [2. 7. 8. 8. 8. 8. 7. 7. 7. 8. 8. 8. 8. 8. 7. 7. 8. 8. 8. 8. 7. 7. 7. 7.\n",
      "  7. 7. 8. 8. 7. 0.]\n",
      " [2. 7. 8. 8. 8. 6. 2. 1. 2. 6. 8. 8. 8. 6. 2. 2. 6. 8. 8. 7. 2. 1. 1. 1.\n",
      "  1. 2. 7. 8. 7. 0.]\n",
      " [2. 7. 8. 8. 7. 2. 0. 0. 0. 2. 7. 8. 6. 2. 0. 0. 2. 6. 8. 7. 1. 0. 0. 0.\n",
      "  0. 1. 7. 8. 7. 0.]\n",
      " [2. 7. 8. 8. 6. 1. 0. 1. 0. 1. 7. 7. 2. 0. 1. 1. 0. 2. 7. 7. 1. 0. 1. 1.\n",
      "  0. 1. 7. 8. 7. 0.]\n",
      " [2. 7. 8. 7. 2. 0. 2. 5. 2. 1. 6. 7. 1. 1. 6. 6. 1. 1. 7. 7. 1. 1. 6. 6.\n",
      "  1. 1. 7. 8. 7. 0.]\n",
      " [2. 7. 8. 7. 2. 2. 6. 8. 6. 1. 2. 6. 2. 2. 7. 7. 1. 1. 7. 7. 1. 2. 7. 6.\n",
      "  1. 2. 7. 8. 7. 0.]\n",
      " [2. 7. 8. 8. 7. 7. 8. 8. 7. 1. 1. 7. 7. 7. 8. 7. 1. 1. 7. 7. 3. 6. 7. 2.\n",
      "  1. 6. 8. 8. 7. 0.]\n",
      " [2. 7. 8. 8. 8. 8. 8. 8. 6. 1. 2. 7. 8. 8. 8. 7. 1. 1. 7. 8. 7. 8. 7. 1.\n",
      "  1. 7. 8. 8. 7. 0.]\n",
      " [2. 7. 8. 8. 8. 8. 8. 7. 2. 1. 6. 8. 8. 8. 8. 6. 1. 2. 7. 8. 8. 8. 7. 1.\n",
      "  1. 7. 8. 8. 7. 0.]\n",
      " [2. 7. 8. 8. 8. 8. 8. 6. 1. 2. 7. 8. 8. 8. 7. 2. 1. 6. 8. 8. 8. 8. 6. 1.\n",
      "  2. 7. 8. 8. 7. 0.]\n",
      " [2. 7. 8. 8. 8. 8. 7. 2. 1. 6. 8. 8. 8. 8. 6. 1. 1. 7. 8. 8. 8. 7. 2. 1.\n",
      "  6. 8. 8. 8. 7. 0.]\n",
      " [2. 7. 8. 8. 8. 8. 6. 1. 2. 7. 8. 8. 8. 7. 2. 0. 2. 7. 8. 8. 8. 7. 1. 1.\n",
      "  7. 8. 8. 8. 7. 0.]\n",
      " [2. 7. 8. 8. 8. 7. 2. 1. 6. 8. 8. 8. 8. 6. 1. 1. 6. 8. 8. 8. 8. 7. 1. 1.\n",
      "  7. 8. 8. 8. 7. 0.]\n",
      " [2. 7. 8. 8. 8. 6. 1. 1. 7. 8. 8. 8. 7. 2. 0. 2. 7. 8. 8. 8. 8. 6. 1. 1.\n",
      "  7. 8. 8. 8. 7. 0.]\n",
      " [2. 7. 8. 8. 7. 2. 0. 2. 7. 8. 8. 8. 6. 1. 1. 6. 8. 8. 8. 8. 7. 2. 0. 2.\n",
      "  7. 8. 8. 8. 7. 0.]\n",
      " [2. 7. 8. 8. 6. 1. 1. 5. 7. 7. 8. 7. 2. 0. 1. 6. 7. 7. 8. 8. 7. 1. 1. 6.\n",
      "  8. 8. 8. 8. 7. 0.]\n",
      " [2. 7. 8. 7. 2. 0. 0. 1. 1. 2. 6. 7. 1. 0. 0. 1. 1. 2. 7. 8. 7. 1. 1. 7.\n",
      "  8. 8. 8. 8. 7. 0.]\n",
      " [2. 7. 8. 7. 1. 0. 0. 0. 0. 0. 2. 6. 1. 0. 0. 0. 0. 1. 7. 8. 7. 1. 1. 7.\n",
      "  8. 8. 8. 8. 7. 0.]\n",
      " [2. 7. 8. 7. 2. 1. 1. 1. 1. 1. 2. 6. 2. 1. 1. 1. 1. 2. 7. 8. 7. 2. 2. 7.\n",
      "  8. 8. 8. 8. 7. 0.]\n",
      " [2. 7. 8. 8. 7. 7. 7. 7. 7. 7. 7. 8. 7. 7. 7. 7. 7. 7. 8. 8. 8. 7. 7. 8.\n",
      "  8. 8. 8. 8. 7. 0.]\n",
      " [2. 6. 8. 8. 8. 8. 8. 8. 8. 8. 8. 8. 8. 8. 8. 8. 8. 8. 8. 8. 8. 8. 8. 8.\n",
      "  8. 8. 8. 8. 7. 0.]\n",
      " [1. 2. 7. 8. 8. 8. 8. 8. 8. 8. 8. 8. 8. 8. 8. 8. 8. 8. 8. 8. 8. 8. 8. 8.\n",
      "  8. 8. 8. 8. 6. 0.]\n",
      " [2. 1. 6. 7. 7. 7. 7. 7. 7. 7. 7. 7. 7. 7. 7. 7. 7. 7. 7. 7. 7. 7. 7. 7.\n",
      "  7. 7. 7. 6. 2. 0.]\n",
      " [6. 2. 1. 1. 1. 1. 1. 1. 1. 1. 1. 1. 1. 1. 1. 1. 1. 1. 1. 1. 1. 1. 1. 1.\n",
      "  1. 1. 1. 1. 2. 0.]\n",
      " [0. 0. 0. 0. 0. 0. 0. 0. 0. 0. 0. 0. 0. 0. 0. 0. 0. 0. 0. 0. 0. 0. 0. 0.\n",
      "  0. 0. 0. 0. 0. 0.]]\n"
     ]
    },
    {
     "data": {
      "text/plain": [
       "<matplotlib.image.AxesImage at 0x19f46e7bba8>"
      ]
     },
     "execution_count": 122,
     "metadata": {},
     "output_type": "execute_result"
    },
    {
     "data": {
      "image/png": "[encoded data removed]",
      "text/plain": [
       "<Figure size 432x288 with 1 Axes>"
      ]
     },
     "metadata": {
      "needs_background": "light"
     },
     "output_type": "display_data"
    }
   ],
   "source": [
    "resized_verilog = resized_verilog1[:, :, None] # adding 3rd dimension \n",
    "laplacian_verilog1 = np.array(( # pass all these 3 matrices to verilog separately and check.\n",
    "    [0, 1, 0],\n",
    "    [1, 4, 1],\n",
    "    [0, 1, 0]), dtype=\"int\")\n",
    "# construct the Sobel x-axis kernel\n",
    "sobelX_verilog1 = np.array((\n",
    "    [1, 0, 1],\n",
    "    [2, 0, 2],\n",
    "    [1, 0, 1]), dtype=\"int\")\n",
    "# construct the Sobel y-axis kernel\n",
    "sobelY_verilog1 = np.array((\n",
    "    [1, 2, 1],\n",
    "    [0, 0, 0],\n",
    "    [1, 2, 1]), dtype=\"int\")\n",
    "laplacian_verilog = array(laplacian_verilog1)[:, :, newaxis]\n",
    "sobelX_verilog = array(sobelX_verilog1)[:, :, newaxis]\n",
    "sobelY_verilog = array(sobelY_verilog1)[:, :, newaxis]\n",
    "print(laplacian_verilog.shape)\n",
    "conv_verilog1 = conv(I=resized_verilog, S=1, P=0, kernel=laplacian_verilog, Ci=resized_verilog.shape[2], Co=1)\n",
    "print(conv_verilog1.shape)\n",
    "conv_verilog = conv_verilog1[:,:,0]\n",
    "print(conv_verilog.shape)\n",
    "print(conv_verilog)\n",
    "plt.imshow(conv_verilog, cmap = plt.cm.gray)"
   ]
  },
  {
   "cell_type": "code",
   "execution_count": 119,
   "metadata": {},
   "outputs": [
    {
     "name": "stdout",
     "output_type": "stream",
     "text": [
      "(3, 3)\n",
      "(3, 3)\n",
      "(3, 3)\n",
      "(32, 32)\n"
     ]
    }
   ],
   "source": [
    "# to be sent to verilog.. This is to verify the conv operation in Verilog\n",
    "\n",
    "print(laplacian_verilog1.shape)\n",
    "print(sobelX_verilog1.shape)\n",
    "print(sobelY_verilog1.shape)\n",
    "print(resized_verilog1.shape)\n",
    "\n",
    "with open(r'C:\\Users\\jujare\\Desktop\\kushal\\Peashon\\HWaccel\\ToSV\\resized_verilog.mem', 'w') as fp:\n",
    "    for line in resized_verilog1:\n",
    "        np.savetxt(fp, line, fmt='%d')\n",
    "        \n",
    "with open(r'C:\\Users\\jujare\\Desktop\\kushal\\Peashon\\HWaccel\\ToSV\\sobelX_verilog.mem', 'w') as fp:\n",
    "    for line in sobelX_verilog1:\n",
    "        np.savetxt(fp, line, fmt='%d')\n",
    "        \n",
    "with open(r'C:\\Users\\jujare\\Desktop\\kushal\\Peashon\\HWaccel\\ToSV\\sobelY_verilog.mem', 'w') as fp:\n",
    "    for line in sobelY_verilog1:\n",
    "        np.savetxt(fp, line, fmt='%d')\n",
    "        \n",
    "with open(r'C:\\Users\\jujare\\Desktop\\kushal\\Peashon\\HWaccel\\ToSV\\laplacian_verilog.mem', 'w') as fp:\n",
    "    for line in laplacian_verilog1:\n",
    "        np.savetxt(fp, line, fmt='%d')\n",
    "        \n",
    "#open and read the file after the appending:\n",
    "#fp = open(r'C:\\Users\\jujare\\Desktop\\kushal\\personal\\HWaccel_jup\\resized_verilog.txt', \"r\")\n",
    "#print(fp.read())"
   ]
  },
  {
   "cell_type": "code",
   "execution_count": 148,
   "metadata": {},
   "outputs": [
    {
     "name": "stdout",
     "output_type": "stream",
     "text": [
      "(900,)\n",
      "(30, 30)\n"
     ]
    },
    {
     "data": {
      "text/plain": [
       "<matplotlib.image.AxesImage at 0x19f48638710>"
      ]
     },
     "execution_count": 148,
     "metadata": {},
     "output_type": "execute_result"
    },
    {
     "data": {
      "image/png": "[encoded data removed]",
      "text/plain": [
       "<Figure size 432x288 with 1 Axes>"
      ]
     },
     "metadata": {
      "needs_background": "light"
     },
     "output_type": "display_data"
    }
   ],
   "source": [
    "import numpy as np\n",
    "# resized_verilog.mem as input.. process in SV.. and write in conv1\n",
    "fp1 = np.loadtxt(r'C:\\Users\\jujare\\Desktop\\kushal\\Peashon\\HWaccel\\FromSV\\conv1_op.mem')\n",
    "print(fp1.shape)\n",
    "verilog_conv_op1 = np.reshape(fp1, (30,30))\n",
    "print(verilog_conv_op1.shape)\n",
    "plt.imshow(verilog_conv_op1, cmap = plt.cm.gray)"
   ]
  },
  {
   "cell_type": "code",
   "execution_count": 149,
   "metadata": {},
   "outputs": [
    {
     "name": "stdout",
     "output_type": "stream",
     "text": [
      "(784,)\n",
      "(28, 28)\n"
     ]
    },
    {
     "data": {
      "text/plain": [
       "<matplotlib.image.AxesImage at 0x19f48693748>"
      ]
     },
     "execution_count": 149,
     "metadata": {},
     "output_type": "execute_result"
    },
    {
     "data": {
      "image/png": "[encoded data removed]",
      "text/plain": [
       "<Figure size 432x288 with 1 Axes>"
      ]
     },
     "metadata": {
      "needs_background": "light"
     },
     "output_type": "display_data"
    }
   ],
   "source": [
    "# conv1.mem as input.. process in SV.. and write in conv2\n",
    "\n",
    "fp2 = np.loadtxt(r'C:\\Users\\jujare\\Desktop\\kushal\\Peashon\\HWaccel\\FromSV\\conv2_op.mem')\n",
    "print(fp2.shape)\n",
    "verilog_conv_op2 = np.reshape(fp2, (28,28))\n",
    "print(verilog_conv_op2.shape)\n",
    "plt.imshow(verilog_conv_op2, cmap = plt.cm.gray)"
   ]
  }
 ],
 "metadata": {
  "kernelspec": {
   "display_name": "Python 3",
   "language": "python",
   "name": "python3"
  },
  "language_info": {
   "codemirror_mode": {
    "name": "ipython",
    "version": 3
   },
   "file_extension": ".py",
   "mimetype": "text/x-python",
   "name": "python",
   "nbconvert_exporter": "python",
   "pygments_lexer": "ipython3",
   "version": "3.7.3"
  }
 },
 "nbformat": 4,
 "nbformat_minor": 2
}
